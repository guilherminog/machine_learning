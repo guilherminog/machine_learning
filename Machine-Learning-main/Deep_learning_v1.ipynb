{
  "nbformat": 4,
  "nbformat_minor": 0,
  "metadata": {
    "colab": {
      "name": "Minha-primeira-Deep-learning.ipynb",
      "provenance": [],
      "authorship_tag": "ABX9TyNPUbkcY8E2DIwryWNLDg9q"
    },
    "kernelspec": {
      "name": "python3",
      "display_name": "Python 3"
    },
    "language_info": {
      "name": "python"
    }
  },
  "cells": [
    {
      "cell_type": "code",
      "execution_count": 28,
      "metadata": {
        "id": "ckkS9BG9Zu-P"
      },
      "outputs": [],
      "source": [
        "import numpy as np \n",
        "import torch\n",
        "import torch.nn.functional as F\n",
        "import torchvision\n",
        "import matplotlib.pyplot as plt\n",
        "from time import time\n",
        "from torchvision import datasets, transforms\n",
        "from torch import nn, optim"
      ]
    },
    {
      "cell_type": "code",
      "source": [
        "transform = transforms.ToTensor() #definido a conversão de imagem para tensor\n",
        "\n",
        "trainset = datasets.MNIST('./MNIST_data/', download=True, train=False, transform=transform)#Carrega parte de validação do dataset\n",
        "trainloader = torch.utils.data.DataLoader(trainset, batch_size=64, shuffle=True) #Cria buffer para pegar os dados por partes\n",
        "\n",
        "valset = datasets.MNIST('./MNIST_data/', download=True, train=False, transform=transform)#Carrega parte de validação do dataset\n",
        "valloader = torch.utils.data.DataLoader(valset, batch_size=64, shuffle=True) #Cria buffer para pegar os dados por partes"
      ],
      "metadata": {
        "id": "flm_6qy_a8Cj"
      },
      "execution_count": 29,
      "outputs": []
    },
    {
      "cell_type": "code",
      "source": [
        "dataiter = iter(trainloader)\n",
        "imagens, etiquetas = dataiter.next()\n",
        "plt.imshow(imagens[0].numpy().squeeze(), cmap='gray_r')"
      ],
      "metadata": {
        "colab": {
          "base_uri": "https://localhost:8080/",
          "height": 283
        },
        "id": "-ykDjO0AeKKr",
        "outputId": "505a96c3-c986-447c-dfbc-9554ec98e7e9"
      },
      "execution_count": 36,
      "outputs": [
        {
          "output_type": "execute_result",
          "data": {
            "text/plain": [
              "<matplotlib.image.AxesImage at 0x7f5618b24c10>"
            ]
          },
          "metadata": {},
          "execution_count": 36
        },
        {
          "output_type": "display_data",
          "data": {
            "text/plain": [
              "<Figure size 432x288 with 1 Axes>"
            ],
            "image/png": "[encoded data removed]"
          },
          "metadata": {
            "needs_background": "light"
          }
        }
      ]
    },
    {
      "cell_type": "code",
      "source": [
        "\n",
        "print(imagens[0].shape)#Verificar tam do tensor de cada img\n",
        "print(etiquetas[0].shape) #Verificar a dimensão do tensor da etiqueta"
      ],
      "metadata": {
        "colab": {
          "base_uri": "https://localhost:8080/"
        },
        "id": "XQqkz0iMe_5B",
        "outputId": "46293c2f-ae27-4b54-938a-14b3a044071c"
      },
      "execution_count": 31,
      "outputs": [
        {
          "output_type": "stream",
          "name": "stdout",
          "text": [
            "torch.Size([1, 28, 28])\n",
            "torch.Size([])\n"
          ]
        }
      ]
    },
    {
      "cell_type": "code",
      "source": [
        "#Estrutura da rede inception\n",
        "class Modelo(nn.Module):\n",
        "  def _init_(self):\n",
        "      super(Modelo, self)._init_()\n",
        "      self.linear1 = nn.Linear(28*28, 128) #camada de entrada, 784 neurônios que se ligam a 128\n",
        "      self.linear2 = nn.Linear(128, 64) #camada interna 1, 128 neurônios que se ligam a 64\n",
        "      self.linear1 = nn.Linear(64, 10) #camada interna 2, 64 neurônios que se ligam a 10\n",
        "      # para a camada de saída não é necessário nada, pois só precisamos pegar o output da cama interna 2\n",
        "      #Quanto maior camadas, maior o desempenho, consequentemente, maior gasto de processamento\n",
        "\n",
        "def forward(self,X):\n",
        "  X = F.relu(self.linear1(X)) # função de ativação da camada de entrada para a cama interna 1\n",
        "  X = F.relu(self.linear2(X)) # função de ativação da camada de entrada para a cama interna 2\n",
        "  X = self.linear3(X) # função de ativação da camada interna 2 para a cama de saída, nesse caso f(x) = x\n",
        "  return F.log_softmax(X, dim=1) # dados utilizados para calcular a pera"
      ],
      "metadata": {
        "id": "7mxzj-MDfhWK"
      },
      "execution_count": 32,
      "outputs": []
    },
    {
      "cell_type": "code",
      "source": [
        "#Otimizador da rede, estrutura de treinamento\n",
        "\n",
        "def treino(modelo, trainloader, device):\n",
        "\n",
        "    otimizador = optim.SGD(modelo.parameters(), lr=0.01, momentum=0.5) #Define a política de atualização dos pesos e da bias\n",
        "    inicio = time() #timer para sabermos quanto tempo levou o treino\n",
        "\n",
        "    criterio = nn.NLLLoss() #definido o criterio para calcular a perda\n",
        "    EPOCHS = 10 #número de EPOCHS que o algoritmo rodará, um bom treinamento seria pelo menos 100 EPOCHS\n",
        "    modelo.train() #ativando o modo de treinamento do modelo\n",
        "\n",
        "    for spoch in range(EPOCHS):\n",
        "        perda_acumulada = 0 #Inicialização de perda acumulada da epoch em questão\n",
        "\n",
        "        for imagens, etiquetas in trainloader:\n",
        "        \n",
        "            imagens = imagens.view(imagens.shape[0], -1) #Convertendo as imagens para \"vetores\" de 28*28 casas para ficarem compatíveis com a\n",
        "            otimizador.zero_grad() #zerando os gradientes por conta do ciclo anterior\n",
        "\n",
        "            output = modelo(imagens.to(device)) #colocando os dados no modelo\n",
        "            perda_instantanea = criterio(output, etiquetas.to(device)) # Calculando a perda da epoch em questão\n",
        "\n",
        "            perda_instantanea.backward() #back propagation a partir da perda\n",
        "\n",
        "            otimizador.step() #Atualizando os pesos e bias\n",
        "\n",
        "            perda_acumulada += perda_instantanea.item() #atualização de perda acumulada\n",
        "\n",
        "    else:\n",
        "        print(\"Epoch {} - Perda resultante. {}\".format(epoch+1, perda_acumulada/len(trainloader)))\n",
        "    print(\"\\n Informe do treino(em minutos) = \", (timer)-inicio/60)"
      ],
      "metadata": {
        "id": "_9IiHRHl42nB"
      },
      "execution_count": 33,
      "outputs": []
    },
    {
      "cell_type": "code",
      "source": [
        "#Algoritmo de validação\n",
        "\n",
        "def validacao(modelo, valloader, device):\n",
        "    conta_corretas = 0\n",
        "    conta_todas = 0\n",
        "    for imagens, etiquetas in valloader:\n",
        "      for i in range(len(etiquetas)):\n",
        "        img = imagens[i].view(1, 784)\n",
        "        #Desativar o autograd para acelerar a validação, Grafos computacionais dinâmicos tem um custo alto de processamento\n",
        "        with torch.no_grad():\n",
        "            logps = modelo(img.to(device)) #output do modelo em escala logaritmica\n",
        "\n",
        "        ps = torch.exp(logps)   #Converte output para escala normal(Lembrando que é um tensor)\n",
        "        probab = list(pc.cpu().numpy()[0])\n",
        "        etiqueta_pred = probab.index(max(probab)) #converte o tensor em um número, no caso, o número que o modelo previu\n",
        "        eitqueta_curta = etiquetas.numpy()[i]\n",
        "        if(etiqueta_curta == etiqueta_prod): #Compare a previsão com o valor correto\n",
        "          conta_corretas += 1\n",
        "        conta_todas += 1\n",
        "    print(\"Total de imagens testadas =\", conta_todas)\n",
        "    print(\"Precisão do modelo = {}%\", format(conta_corretas*100/conta_todas))"
      ],
      "metadata": {
        "id": "dI5rxEOZ4nGb"
      },
      "execution_count": 34,
      "outputs": []
    },
    {
      "cell_type": "code",
      "source": [
        "modelo = Modelo()\n",
        "device = torch.device(\"cuda\" if torch.cuda.is_available() else \"cpu\")\n",
        "#Verificando se existe uma placa cuda, a unica placa que possui suporte ao cuda é a NVIDIA"
      ],
      "metadata": {
        "id": "qN8hPZFkGAIE"
      },
      "execution_count": 35,
      "outputs": []
    }
  ]
}